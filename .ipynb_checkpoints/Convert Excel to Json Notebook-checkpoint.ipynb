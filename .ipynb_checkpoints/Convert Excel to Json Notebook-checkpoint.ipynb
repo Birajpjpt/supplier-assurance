{
 "cells": [
  {
   "cell_type": "code",
   "execution_count": 1,
   "metadata": {
    "scrolled": false
   },
   "outputs": [
    {
     "name": "stdout",
     "output_type": "stream",
     "text": [
      "Requirement already satisfied: pandas in /Library/Frameworks/Python.framework/Versions/3.7/lib/python3.7/site-packages (0.25.3)\n",
      "Requirement already satisfied: pytz>=2017.2 in /Library/Frameworks/Python.framework/Versions/3.7/lib/python3.7/site-packages (from pandas) (2019.2)\n",
      "Requirement already satisfied: numpy>=1.13.3 in /Library/Frameworks/Python.framework/Versions/3.7/lib/python3.7/site-packages (from pandas) (1.17.3)\n",
      "Requirement already satisfied: python-dateutil>=2.6.1 in /Users/bprajapati/Library/Python/3.7/lib/python/site-packages (from pandas) (2.8.0)\n",
      "Requirement already satisfied: six>=1.5 in /Users/bprajapati/Library/Python/3.7/lib/python/site-packages (from python-dateutil>=2.6.1->pandas) (1.12.0)\n",
      "\u001b[33mWARNING: You are using pip version 19.2.3, however version 19.3.1 is available.\n",
      "You should consider upgrading via the 'pip install --upgrade pip' command.\u001b[0m\n",
      "Note: you may need to restart the kernel to use updated packages.\n"
     ]
    }
   ],
   "source": [
    "pip install pandas"
   ]
  },
  {
   "cell_type": "code",
   "execution_count": 2,
   "metadata": {},
   "outputs": [
    {
     "name": "stdout",
     "output_type": "stream",
     "text": [
      "Requirement already satisfied: xlrd in /Library/Frameworks/Python.framework/Versions/3.7/lib/python3.7/site-packages (1.2.0)\n",
      "\u001b[33mWARNING: You are using pip version 19.2.3, however version 19.3.1 is available.\n",
      "You should consider upgrading via the 'pip install --upgrade pip' command.\u001b[0m\n",
      "Note: you may need to restart the kernel to use updated packages.\n"
     ]
    }
   ],
   "source": [
    "pip install xlrd"
   ]
  },
  {
   "cell_type": "code",
   "execution_count": 3,
   "metadata": {},
   "outputs": [],
   "source": [
    "import pandas as pd"
   ]
  },
  {
   "cell_type": "code",
   "execution_count": 4,
   "metadata": {},
   "outputs": [],
   "source": [
    "props = pd.read_excel(r'./Supplier_Assurance.xlsx', index_col=0, usecols = \"A:C,F\")"
   ]
  },
  {
   "cell_type": "code",
   "execution_count": 5,
   "metadata": {},
   "outputs": [
    {
     "data": {
      "text/html": [
       "<div>\n",
       "<style scoped>\n",
       "    .dataframe tbody tr th:only-of-type {\n",
       "        vertical-align: middle;\n",
       "    }\n",
       "\n",
       "    .dataframe tbody tr th {\n",
       "        vertical-align: top;\n",
       "    }\n",
       "\n",
       "    .dataframe thead th {\n",
       "        text-align: right;\n",
       "    }\n",
       "</style>\n",
       "<table border=\"1\" class=\"dataframe\">\n",
       "  <thead>\n",
       "    <tr style=\"text-align: right;\">\n",
       "      <th></th>\n",
       "      <th>Domain</th>\n",
       "      <th>Question</th>\n",
       "      <th>Score</th>\n",
       "    </tr>\n",
       "    <tr>\n",
       "      <th>#</th>\n",
       "      <th></th>\n",
       "      <th></th>\n",
       "      <th></th>\n",
       "    </tr>\n",
       "  </thead>\n",
       "  <tbody>\n",
       "    <tr>\n",
       "      <th>1</th>\n",
       "      <td>Information Security Policies</td>\n",
       "      <td>Are information security policies issued, appr...</td>\n",
       "      <td>1</td>\n",
       "    </tr>\n",
       "    <tr>\n",
       "      <th>2</th>\n",
       "      <td>NaN</td>\n",
       "      <td>Have policies been reviewed in the last 12 mon...</td>\n",
       "      <td>1</td>\n",
       "    </tr>\n",
       "    <tr>\n",
       "      <th>3</th>\n",
       "      <td>NaN</td>\n",
       "      <td>Is the high-level security policy available fo...</td>\n",
       "      <td>1</td>\n",
       "    </tr>\n",
       "    <tr>\n",
       "      <th>4</th>\n",
       "      <td>NaN</td>\n",
       "      <td>Do your systems/applications regularly undergo...</td>\n",
       "      <td>1</td>\n",
       "    </tr>\n",
       "    <tr>\n",
       "      <th>5</th>\n",
       "      <td>NaN</td>\n",
       "      <td>Can (anonymised) security reports be provided?</td>\n",
       "      <td>1</td>\n",
       "    </tr>\n",
       "  </tbody>\n",
       "</table>\n",
       "</div>"
      ],
      "text/plain": [
       "                          Domain  \\\n",
       "#                                  \n",
       "1  Information Security Policies   \n",
       "2                            NaN   \n",
       "3                            NaN   \n",
       "4                            NaN   \n",
       "5                            NaN   \n",
       "\n",
       "                                            Question  Score  \n",
       "#                                                            \n",
       "1  Are information security policies issued, appr...      1  \n",
       "2  Have policies been reviewed in the last 12 mon...      1  \n",
       "3  Is the high-level security policy available fo...      1  \n",
       "4  Do your systems/applications regularly undergo...      1  \n",
       "5     Can (anonymised) security reports be provided?      1  "
      ]
     },
     "execution_count": 5,
     "metadata": {},
     "output_type": "execute_result"
    }
   ],
   "source": [
    "props.head()"
   ]
  },
  {
   "cell_type": "code",
   "execution_count": 6,
   "metadata": {},
   "outputs": [],
   "source": [
    "props['Domain'] = props['Domain'].fillna(method='ffill')"
   ]
  },
  {
   "cell_type": "code",
   "execution_count": 7,
   "metadata": {
    "scrolled": true
   },
   "outputs": [
    {
     "data": {
      "text/html": [
       "<div>\n",
       "<style scoped>\n",
       "    .dataframe tbody tr th:only-of-type {\n",
       "        vertical-align: middle;\n",
       "    }\n",
       "\n",
       "    .dataframe tbody tr th {\n",
       "        vertical-align: top;\n",
       "    }\n",
       "\n",
       "    .dataframe thead th {\n",
       "        text-align: right;\n",
       "    }\n",
       "</style>\n",
       "<table border=\"1\" class=\"dataframe\">\n",
       "  <thead>\n",
       "    <tr style=\"text-align: right;\">\n",
       "      <th></th>\n",
       "      <th>Domain</th>\n",
       "      <th>Question</th>\n",
       "      <th>Score</th>\n",
       "    </tr>\n",
       "    <tr>\n",
       "      <th>#</th>\n",
       "      <th></th>\n",
       "      <th></th>\n",
       "      <th></th>\n",
       "    </tr>\n",
       "  </thead>\n",
       "  <tbody>\n",
       "    <tr>\n",
       "      <th>1</th>\n",
       "      <td>Information Security Policies</td>\n",
       "      <td>Are information security policies issued, appr...</td>\n",
       "      <td>1</td>\n",
       "    </tr>\n",
       "    <tr>\n",
       "      <th>2</th>\n",
       "      <td>Information Security Policies</td>\n",
       "      <td>Have policies been reviewed in the last 12 mon...</td>\n",
       "      <td>1</td>\n",
       "    </tr>\n",
       "    <tr>\n",
       "      <th>3</th>\n",
       "      <td>Information Security Policies</td>\n",
       "      <td>Is the high-level security policy available fo...</td>\n",
       "      <td>1</td>\n",
       "    </tr>\n",
       "    <tr>\n",
       "      <th>4</th>\n",
       "      <td>Information Security Policies</td>\n",
       "      <td>Do your systems/applications regularly undergo...</td>\n",
       "      <td>1</td>\n",
       "    </tr>\n",
       "    <tr>\n",
       "      <th>5</th>\n",
       "      <td>Information Security Policies</td>\n",
       "      <td>Can (anonymised) security reports be provided?</td>\n",
       "      <td>1</td>\n",
       "    </tr>\n",
       "  </tbody>\n",
       "</table>\n",
       "</div>"
      ],
      "text/plain": [
       "                          Domain  \\\n",
       "#                                  \n",
       "1  Information Security Policies   \n",
       "2  Information Security Policies   \n",
       "3  Information Security Policies   \n",
       "4  Information Security Policies   \n",
       "5  Information Security Policies   \n",
       "\n",
       "                                            Question  Score  \n",
       "#                                                            \n",
       "1  Are information security policies issued, appr...      1  \n",
       "2  Have policies been reviewed in the last 12 mon...      1  \n",
       "3  Is the high-level security policy available fo...      1  \n",
       "4  Do your systems/applications regularly undergo...      1  \n",
       "5     Can (anonymised) security reports be provided?      1  "
      ]
     },
     "execution_count": 7,
     "metadata": {},
     "output_type": "execute_result"
    }
   ],
   "source": [
    "props.head()"
   ]
  },
  {
   "cell_type": "code",
   "execution_count": 8,
   "metadata": {},
   "outputs": [
    {
     "data": {
      "text/plain": [
       "'[{\"Domain\":\"Information Security Policies\",\"Question\":\"Are information security policies issued, approved and supported by the executive board?\",\"Score\":1},{\"Domain\":\"Information Security Policies\",\"Question\":\"Have policies been reviewed in the last 12 months?\",\"Score\":1},{\"Domain\":\"Information Security Policies\",\"Question\":\"Is the high-level security policy available for review (Under NDA if required)\",\"Score\":1},{\"Domain\":\"Information Security Policies\",\"Question\":\"Do your systems\\\\/applications regularly undergo security testing by an independant third party?\",\"Score\":1},{\"Domain\":\"Information Security Policies\",\"Question\":\"Can (anonymised) security reports be provided?\",\"Score\":1},{\"Domain\":\"Organisation of Information Security\",\"Question\":\"Are there information security function(s)\\\\/role(s) responsible for security initiatives within your organisation?\",\"Score\":1},{\"Domain\":\"Organisation of Information Security\",\"Question\":\"Does your organisation employ full-time staff dedicated for Information security within your organisation?\",\"Score\":1},{\"Domain\":\"Human Resource Security\",\"Question\":\"Does your organisation perform pre-employment screening (e.g. criminal records check, education check etc.)  for your personnel? If so, please provide high level details of the checks and the process.\",\"Score\":1},{\"Domain\":\"Human Resource Security\",\"Question\":\"Are all personnel required to sign a confidentiality agreement at the time of employment?\",\"Score\":1},{\"Domain\":\"Human Resource Security\",\"Question\":\"Does your organisation have a disciplinary process for non-compliance with information security policies and is well understood by the personnel?\",\"Score\":1},{\"Domain\":\"Human Resource Security\",\"Question\":\"Does HR work closely with Information Security to provide timely notices regarding job changes or terminations?\",\"Score\":1},{\"Domain\":\"Asset Management\",\"Question\":\"Does your organisation have a formal asset management system covering, inventory, ownership, acceptable use and return of assets? \",\"Score\":1},{\"Domain\":\"Asset Management\",\"Question\":\"Does your organisation have a data classification or equivalent policy to facilitate the protection of client data? Please provide details of the controls deployed to protect client data.\",\"Score\":1},{\"Domain\":\"Asset Management\",\"Question\":\"Does your organisation allow the use of portable media\\\\/devices?\",\"Score\":1},{\"Domain\":\"Asset Management\",\"Question\":\"Does your organisation allow the use of bring your own device (BYOD)? If so, is there a policy\\\\/standard governing the security requirements? Please provide details of the security requirements and controls.\",\"Score\":1},{\"Domain\":\"Access Control\",\"Question\":\"Does your organisation have a formal Access Control Policy?\",\"Score\":1},{\"Domain\":\"Access Control\",\"Question\":\"Does your organisation tightly control user access provisioning (e.g. employment) and deprovisioning (e.g. role change, termination) upon changes?\",\"Score\":1},{\"Domain\":\"Access Control\",\"Question\":\"Does your organisation have a password policy\\\\/standard prescribing minimum requirements for privileged and non-privileged accounts?\",\"Score\":1},{\"Domain\":\"Cryptography\",\"Question\":\"Does your organisation have a formal policy\\\\/standard\\\\/procedure mandating cryptographic controls? If so, please provide high level details\",\"Score\":1},{\"Domain\":\"Physical and Environmental Security\",\"Question\":\"Does your organisation have sufficient physical security controls in place to prevent unauthorised access and damage? Please provide control details.\",\"Score\":1},{\"Domain\":\"Operations Security\",\"Question\":\"Does your organisation use a formal change management process for systems that process and store client data (e.g. production and non-production environments)?\",\"Score\":1},{\"Domain\":\"Operations Security\",\"Question\":\"Are controls in place to segregate WorldRemit data from other clients? Please provide details.\",\"Score\":1},{\"Domain\":\"Operations Security\",\"Question\":\"Are there controls in place to separate development, test and production environment? Please provide details.\",\"Score\":1},{\"Domain\":\"Operations Security\",\"Question\":\"Are there controls in place to protect against malicious code (e.g. malware)? Please provide details.\",\"Score\":1},{\"Domain\":\"Operations Security\",\"Question\":\"Are systems providing customer services and the storing data are backed up frequently and the sufficiently protected (e.g. encrypted backup)? Please provide details.\",\"Score\":1},{\"Domain\":\"Operations Security\",\"Question\":\"Does your organisation regularly apply vendor supplied updates (patches) to the relevant environment and software?\",\"Score\":1},{\"Domain\":\"Operations Security\",\"Question\":\"Are logging and monitoring controls in place to ensure audit data is captured and protected?\",\"Score\":1},{\"Domain\":\"Communications Security\",\"Question\":\"Are there controls in place to sufficiently protect customer information when its transmitted (e.g. TLS\\\\/HTTPS, VPN)? Please provide the details of the controls.\",\"Score\":1},{\"Domain\":\"Communications Security\",\"Question\":\"Are there controls in place to protect your network from unauthorised access? Please provide details.    \",\"Score\":1},{\"Domain\":\"System acquisition, development and maintenance\",\"Question\":\"Does your organisation have a formal process for identifying security requirements to harden the acquired\\\\/developed systems? Please provide details.\",\"Score\":1},{\"Domain\":\"System acquisition, development and maintenance\",\"Question\":\"Does your organisation develop software in order to provide a service to WR If answered no, please move on to Supplier Relationships\",\"Score\":1},{\"Domain\":\"System acquisition, development and maintenance\",\"Question\":\"Does the SDLC include security requirements gathering, implementation and verification requirements before accepting into production?\",\"Score\":1},{\"Domain\":\"System acquisition, development and maintenance\",\"Question\":\"Does your organisation follow secure development frameworks prescribed by reputable security groups (e.g. OWASP, SAFECode, etc.)\",\"Score\":1},{\"Domain\":\"System acquisition, development and maintenance\",\"Question\":\"Do developers regularly receive training on secure coding, design, testing for security vulnerabilities and mitigation techniques?  \",\"Score\":1},{\"Domain\":\"Supplier Relationships\",\"Question\":\"Are there any suppliers involved in order to provide your service to WR? If so, are client\\'s information security requirements passed down to the suppliers? Please provide details.\",\"Score\":1},{\"Domain\":\"Information security incident management\",\"Question\":\"Is there a formal process to track and notify customer about the incident if it is related or affect the customer? If so, please provide details.\",\"Score\":1},{\"Domain\":\"Information security aspects of business continuity management\",\"Question\":\"If a formal business continuity policy exists, are there sufficient controls in place to protect WR  data? Please provide details.\",\"Score\":1},{\"Domain\":\"Compliance\",\"Question\":\"Does your organisation have a process to ensure legal, contractual and regulatory requirements are met? Please provide details.\",\"Score\":1},{\"Domain\":\"Compliance\",\"Question\":\"How does your organisation ensure compliance with your organisational information security policies and standards?\",\"Score\":1}]'"
      ]
     },
     "execution_count": 8,
     "metadata": {},
     "output_type": "execute_result"
    }
   ],
   "source": [
    "props.to_json(orient='records')"
   ]
  },
  {
   "cell_type": "raw",
   "metadata": {},
   "source": [
    "Code to get Headers list Below"
   ]
  },
  {
   "cell_type": "code",
   "execution_count": 9,
   "metadata": {},
   "outputs": [
    {
     "data": {
      "text/plain": [
       "['Domain', 'Question', 'Score']"
      ]
     },
     "execution_count": 9,
     "metadata": {},
     "output_type": "execute_result"
    }
   ],
   "source": [
    "list(props)"
   ]
  },
  {
   "cell_type": "code",
   "execution_count": 10,
   "metadata": {},
   "outputs": [
    {
     "data": {
      "text/plain": [
       "3"
      ]
     },
     "execution_count": 10,
     "metadata": {},
     "output_type": "execute_result"
    }
   ],
   "source": [
    "props.values.shape[1]"
   ]
  },
  {
   "cell_type": "code",
   "execution_count": 11,
   "metadata": {
    "scrolled": true
   },
   "outputs": [],
   "source": [
    "value = (props.groupby(['Domain'])\n",
    "           .apply(lambda x: dict(zip(x.Question,x.Score)))\n",
    "           .reset_index()\n",
    "           .rename(columns={0: 'Question_Scores'})\n",
    "           .to_json(orient='records'))"
   ]
  },
  {
   "cell_type": "code",
   "execution_count": 12,
   "metadata": {},
   "outputs": [],
   "source": [
    "import json"
   ]
  },
  {
   "cell_type": "code",
   "execution_count": 13,
   "metadata": {},
   "outputs": [
    {
     "name": "stdout",
     "output_type": "stream",
     "text": [
      "[{\"Domain\":\"Access Control\",\"Question_Scores\":{\"Does your organisation have a formal Access Control Policy?\":1,\"Does your organisation tightly control user access provisioning (e.g. employment) and deprovisioning (e.g. role change, termination) upon changes?\":1,\"Does your organisation have a password policy\\/standard prescribing minimum requirements for privileged and non-privileged accounts?\":1}},{\"Domain\":\"Asset Management\",\"Question_Scores\":{\"Does your organisation have a formal asset management system covering, inventory, ownership, acceptable use and return of assets? \":1,\"Does your organisation have a data classification or equivalent policy to facilitate the protection of client data? Please provide details of the controls deployed to protect client data.\":1,\"Does your organisation allow the use of portable media\\/devices?\":1,\"Does your organisation allow the use of bring your own device (BYOD)? If so, is there a policy\\/standard governing the security requirements? Please provide details of the security requirements and controls.\":1}},{\"Domain\":\"Communications Security\",\"Question_Scores\":{\"Are there controls in place to sufficiently protect customer information when its transmitted (e.g. TLS\\/HTTPS, VPN)? Please provide the details of the controls.\":1,\"Are there controls in place to protect your network from unauthorised access? Please provide details.    \":1}},{\"Domain\":\"Compliance\",\"Question_Scores\":{\"Does your organisation have a process to ensure legal, contractual and regulatory requirements are met? Please provide details.\":1,\"How does your organisation ensure compliance with your organisational information security policies and standards?\":1}},{\"Domain\":\"Cryptography\",\"Question_Scores\":{\"Does your organisation have a formal policy\\/standard\\/procedure mandating cryptographic controls? If so, please provide high level details\":1}},{\"Domain\":\"Human Resource Security\",\"Question_Scores\":{\"Does your organisation perform pre-employment screening (e.g. criminal records check, education check etc.)  for your personnel? If so, please provide high level details of the checks and the process.\":1,\"Are all personnel required to sign a confidentiality agreement at the time of employment?\":1,\"Does your organisation have a disciplinary process for non-compliance with information security policies and is well understood by the personnel?\":1,\"Does HR work closely with Information Security to provide timely notices regarding job changes or terminations?\":1}},{\"Domain\":\"Information Security Policies\",\"Question_Scores\":{\"Are information security policies issued, approved and supported by the executive board?\":1,\"Have policies been reviewed in the last 12 months?\":1,\"Is the high-level security policy available for review (Under NDA if required)\":1,\"Do your systems\\/applications regularly undergo security testing by an independant third party?\":1,\"Can (anonymised) security reports be provided?\":1}},{\"Domain\":\"Information security aspects of business continuity management\",\"Question_Scores\":{\"If a formal business continuity policy exists, are there sufficient controls in place to protect WR  data? Please provide details.\":1}},{\"Domain\":\"Information security incident management\",\"Question_Scores\":{\"Is there a formal process to track and notify customer about the incident if it is related or affect the customer? If so, please provide details.\":1}},{\"Domain\":\"Operations Security\",\"Question_Scores\":{\"Does your organisation use a formal change management process for systems that process and store client data (e.g. production and non-production environments)?\":1,\"Are controls in place to segregate WorldRemit data from other clients? Please provide details.\":1,\"Are there controls in place to separate development, test and production environment? Please provide details.\":1,\"Are there controls in place to protect against malicious code (e.g. malware)? Please provide details.\":1,\"Are systems providing customer services and the storing data are backed up frequently and the sufficiently protected (e.g. encrypted backup)? Please provide details.\":1,\"Does your organisation regularly apply vendor supplied updates (patches) to the relevant environment and software?\":1,\"Are logging and monitoring controls in place to ensure audit data is captured and protected?\":1}},{\"Domain\":\"Organisation of Information Security\",\"Question_Scores\":{\"Are there information security function(s)\\/role(s) responsible for security initiatives within your organisation?\":1,\"Does your organisation employ full-time staff dedicated for Information security within your organisation?\":1}},{\"Domain\":\"Physical and Environmental Security\",\"Question_Scores\":{\"Does your organisation have sufficient physical security controls in place to prevent unauthorised access and damage? Please provide control details.\":1}},{\"Domain\":\"Supplier Relationships\",\"Question_Scores\":{\"Are there any suppliers involved in order to provide your service to WR? If so, are client's information security requirements passed down to the suppliers? Please provide details.\":1}},{\"Domain\":\"System acquisition, development and maintenance\",\"Question_Scores\":{\"Does your organisation have a formal process for identifying security requirements to harden the acquired\\/developed systems? Please provide details.\":1,\"Does your organisation develop software in order to provide a service to WR If answered no, please move on to Supplier Relationships\":1,\"Does the SDLC include security requirements gathering, implementation and verification requirements before accepting into production?\":1,\"Does your organisation follow secure development frameworks prescribed by reputable security groups (e.g. OWASP, SAFECode, etc.)\":1,\"Do developers regularly receive training on secure coding, design, testing for security vulnerabilities and mitigation techniques?  \":1}}]\n"
     ]
    }
   ],
   "source": [
    "print(value)"
   ]
  },
  {
   "cell_type": "code",
   "execution_count": 14,
   "metadata": {},
   "outputs": [
    {
     "name": "stdout",
     "output_type": "stream",
     "text": [
      "[\n",
      "  {\n",
      "    \"Domain\": \"Access Control\",\n",
      "    \"Question_Scores\": {\n",
      "      \"Does your organisation have a formal Access Control Policy?\": 1,\n",
      "      \"Does your organisation have a password policy/standard prescribing minimum requirements for privileged and non-privileged accounts?\": 1,\n",
      "      \"Does your organisation tightly control user access provisioning (e.g. employment) and deprovisioning (e.g. role change, termination) upon changes?\": 1\n",
      "    }\n",
      "  },\n",
      "  {\n",
      "    \"Domain\": \"Asset Management\",\n",
      "    \"Question_Scores\": {\n",
      "      \"Does your organisation allow the use of bring your own device (BYOD)? If so, is there a policy/standard governing the security requirements? Please provide details of the security requirements and controls.\": 1,\n",
      "      \"Does your organisation allow the use of portable media/devices?\": 1,\n",
      "      \"Does your organisation have a data classification or equivalent policy to facilitate the protection of client data? Please provide details of the controls deployed to protect client data.\": 1,\n",
      "      \"Does your organisation have a formal asset management system covering, inventory, ownership, acceptable use and return of assets? \": 1\n",
      "    }\n",
      "  },\n",
      "  {\n",
      "    \"Domain\": \"Communications Security\",\n",
      "    \"Question_Scores\": {\n",
      "      \"Are there controls in place to protect your network from unauthorised access? Please provide details.    \": 1,\n",
      "      \"Are there controls in place to sufficiently protect customer information when its transmitted (e.g. TLS/HTTPS, VPN)? Please provide the details of the controls.\": 1\n",
      "    }\n",
      "  },\n",
      "  {\n",
      "    \"Domain\": \"Compliance\",\n",
      "    \"Question_Scores\": {\n",
      "      \"Does your organisation have a process to ensure legal, contractual and regulatory requirements are met? Please provide details.\": 1,\n",
      "      \"How does your organisation ensure compliance with your organisational information security policies and standards?\": 1\n",
      "    }\n",
      "  },\n",
      "  {\n",
      "    \"Domain\": \"Cryptography\",\n",
      "    \"Question_Scores\": {\n",
      "      \"Does your organisation have a formal policy/standard/procedure mandating cryptographic controls? If so, please provide high level details\": 1\n",
      "    }\n",
      "  },\n",
      "  {\n",
      "    \"Domain\": \"Human Resource Security\",\n",
      "    \"Question_Scores\": {\n",
      "      \"Are all personnel required to sign a confidentiality agreement at the time of employment?\": 1,\n",
      "      \"Does HR work closely with Information Security to provide timely notices regarding job changes or terminations?\": 1,\n",
      "      \"Does your organisation have a disciplinary process for non-compliance with information security policies and is well understood by the personnel?\": 1,\n",
      "      \"Does your organisation perform pre-employment screening (e.g. criminal records check, education check etc.)  for your personnel? If so, please provide high level details of the checks and the process.\": 1\n",
      "    }\n",
      "  },\n",
      "  {\n",
      "    \"Domain\": \"Information Security Policies\",\n",
      "    \"Question_Scores\": {\n",
      "      \"Are information security policies issued, approved and supported by the executive board?\": 1,\n",
      "      \"Can (anonymised) security reports be provided?\": 1,\n",
      "      \"Do your systems/applications regularly undergo security testing by an independant third party?\": 1,\n",
      "      \"Have policies been reviewed in the last 12 months?\": 1,\n",
      "      \"Is the high-level security policy available for review (Under NDA if required)\": 1\n",
      "    }\n",
      "  },\n",
      "  {\n",
      "    \"Domain\": \"Information security aspects of business continuity management\",\n",
      "    \"Question_Scores\": {\n",
      "      \"If a formal business continuity policy exists, are there sufficient controls in place to protect WR  data? Please provide details.\": 1\n",
      "    }\n",
      "  },\n",
      "  {\n",
      "    \"Domain\": \"Information security incident management\",\n",
      "    \"Question_Scores\": {\n",
      "      \"Is there a formal process to track and notify customer about the incident if it is related or affect the customer? If so, please provide details.\": 1\n",
      "    }\n",
      "  },\n",
      "  {\n",
      "    \"Domain\": \"Operations Security\",\n",
      "    \"Question_Scores\": {\n",
      "      \"Are controls in place to segregate WorldRemit data from other clients? Please provide details.\": 1,\n",
      "      \"Are logging and monitoring controls in place to ensure audit data is captured and protected?\": 1,\n",
      "      \"Are systems providing customer services and the storing data are backed up frequently and the sufficiently protected (e.g. encrypted backup)? Please provide details.\": 1,\n",
      "      \"Are there controls in place to protect against malicious code (e.g. malware)? Please provide details.\": 1,\n",
      "      \"Are there controls in place to separate development, test and production environment? Please provide details.\": 1,\n",
      "      \"Does your organisation regularly apply vendor supplied updates (patches) to the relevant environment and software?\": 1,\n",
      "      \"Does your organisation use a formal change management process for systems that process and store client data (e.g. production and non-production environments)?\": 1\n",
      "    }\n",
      "  },\n",
      "  {\n",
      "    \"Domain\": \"Organisation of Information Security\",\n",
      "    \"Question_Scores\": {\n",
      "      \"Are there information security function(s)/role(s) responsible for security initiatives within your organisation?\": 1,\n",
      "      \"Does your organisation employ full-time staff dedicated for Information security within your organisation?\": 1\n",
      "    }\n",
      "  },\n",
      "  {\n",
      "    \"Domain\": \"Physical and Environmental Security\",\n",
      "    \"Question_Scores\": {\n",
      "      \"Does your organisation have sufficient physical security controls in place to prevent unauthorised access and damage? Please provide control details.\": 1\n",
      "    }\n",
      "  },\n",
      "  {\n",
      "    \"Domain\": \"Supplier Relationships\",\n",
      "    \"Question_Scores\": {\n",
      "      \"Are there any suppliers involved in order to provide your service to WR? If so, are client's information security requirements passed down to the suppliers? Please provide details.\": 1\n",
      "    }\n",
      "  },\n",
      "  {\n",
      "    \"Domain\": \"System acquisition, development and maintenance\",\n",
      "    \"Question_Scores\": {\n",
      "      \"Do developers regularly receive training on secure coding, design, testing for security vulnerabilities and mitigation techniques?  \": 1,\n",
      "      \"Does the SDLC include security requirements gathering, implementation and verification requirements before accepting into production?\": 1,\n",
      "      \"Does your organisation develop software in order to provide a service to WR If answered no, please move on to Supplier Relationships\": 1,\n",
      "      \"Does your organisation follow secure development frameworks prescribed by reputable security groups (e.g. OWASP, SAFECode, etc.)\": 1,\n",
      "      \"Does your organisation have a formal process for identifying security requirements to harden the acquired/developed systems? Please provide details.\": 1\n",
      "    }\n",
      "  }\n",
      "]\n"
     ]
    }
   ],
   "source": [
    "print(json.dumps(json.loads(value), indent=2, sort_keys=True))"
   ]
  },
  {
   "cell_type": "code",
   "execution_count": 15,
   "metadata": {},
   "outputs": [
    {
     "name": "stdout",
     "output_type": "stream",
     "text": [
      "Requirement already satisfied: networkx in /Library/Frameworks/Python.framework/Versions/3.7/lib/python3.7/site-packages (2.4)\n",
      "Requirement already satisfied: decorator>=4.3.0 in /Library/Frameworks/Python.framework/Versions/3.7/lib/python3.7/site-packages (from networkx) (4.4.1)\n",
      "\u001b[33mWARNING: You are using pip version 19.2.3, however version 19.3.1 is available.\n",
      "You should consider upgrading via the 'pip install --upgrade pip' command.\u001b[0m\n",
      "Note: you may need to restart the kernel to use updated packages.\n"
     ]
    }
   ],
   "source": [
    "pip install networkx"
   ]
  },
  {
   "cell_type": "code",
   "execution_count": 16,
   "metadata": {},
   "outputs": [],
   "source": [
    "from networkx.readwrite import json_graph"
   ]
  },
  {
   "cell_type": "code",
   "execution_count": 17,
   "metadata": {},
   "outputs": [],
   "source": [
    "js_graph = json.loads(value)"
   ]
  },
  {
   "cell_type": "code",
   "execution_count": 18,
   "metadata": {},
   "outputs": [
    {
     "data": {
      "text/plain": [
       "[{'Domain': 'Access Control',\n",
       "  'Question_Scores': {'Does your organisation have a formal Access Control Policy?': 1,\n",
       "   'Does your organisation tightly control user access provisioning (e.g. employment) and deprovisioning (e.g. role change, termination) upon changes?': 1,\n",
       "   'Does your organisation have a password policy/standard prescribing minimum requirements for privileged and non-privileged accounts?': 1}},\n",
       " {'Domain': 'Asset Management',\n",
       "  'Question_Scores': {'Does your organisation have a formal asset management system covering, inventory, ownership, acceptable use and return of assets? ': 1,\n",
       "   'Does your organisation have a data classification or equivalent policy to facilitate the protection of client data? Please provide details of the controls deployed to protect client data.': 1,\n",
       "   'Does your organisation allow the use of portable media/devices?': 1,\n",
       "   'Does your organisation allow the use of bring your own device (BYOD)? If so, is there a policy/standard governing the security requirements? Please provide details of the security requirements and controls.': 1}},\n",
       " {'Domain': 'Communications Security',\n",
       "  'Question_Scores': {'Are there controls in place to sufficiently protect customer information when its transmitted (e.g. TLS/HTTPS, VPN)? Please provide the details of the controls.': 1,\n",
       "   'Are there controls in place to protect your network from unauthorised access? Please provide details.    ': 1}},\n",
       " {'Domain': 'Compliance',\n",
       "  'Question_Scores': {'Does your organisation have a process to ensure legal, contractual and regulatory requirements are met? Please provide details.': 1,\n",
       "   'How does your organisation ensure compliance with your organisational information security policies and standards?': 1}},\n",
       " {'Domain': 'Cryptography',\n",
       "  'Question_Scores': {'Does your organisation have a formal policy/standard/procedure mandating cryptographic controls? If so, please provide high level details': 1}},\n",
       " {'Domain': 'Human Resource Security',\n",
       "  'Question_Scores': {'Does your organisation perform pre-employment screening (e.g. criminal records check, education check etc.)  for your personnel? If so, please provide high level details of the checks and the process.': 1,\n",
       "   'Are all personnel required to sign a confidentiality agreement at the time of employment?': 1,\n",
       "   'Does your organisation have a disciplinary process for non-compliance with information security policies and is well understood by the personnel?': 1,\n",
       "   'Does HR work closely with Information Security to provide timely notices regarding job changes or terminations?': 1}},\n",
       " {'Domain': 'Information Security Policies',\n",
       "  'Question_Scores': {'Are information security policies issued, approved and supported by the executive board?': 1,\n",
       "   'Have policies been reviewed in the last 12 months?': 1,\n",
       "   'Is the high-level security policy available for review (Under NDA if required)': 1,\n",
       "   'Do your systems/applications regularly undergo security testing by an independant third party?': 1,\n",
       "   'Can (anonymised) security reports be provided?': 1}},\n",
       " {'Domain': 'Information security aspects of business continuity management',\n",
       "  'Question_Scores': {'If a formal business continuity policy exists, are there sufficient controls in place to protect WR  data? Please provide details.': 1}},\n",
       " {'Domain': 'Information security incident management',\n",
       "  'Question_Scores': {'Is there a formal process to track and notify customer about the incident if it is related or affect the customer? If so, please provide details.': 1}},\n",
       " {'Domain': 'Operations Security',\n",
       "  'Question_Scores': {'Does your organisation use a formal change management process for systems that process and store client data (e.g. production and non-production environments)?': 1,\n",
       "   'Are controls in place to segregate WorldRemit data from other clients? Please provide details.': 1,\n",
       "   'Are there controls in place to separate development, test and production environment? Please provide details.': 1,\n",
       "   'Are there controls in place to protect against malicious code (e.g. malware)? Please provide details.': 1,\n",
       "   'Are systems providing customer services and the storing data are backed up frequently and the sufficiently protected (e.g. encrypted backup)? Please provide details.': 1,\n",
       "   'Does your organisation regularly apply vendor supplied updates (patches) to the relevant environment and software?': 1,\n",
       "   'Are logging and monitoring controls in place to ensure audit data is captured and protected?': 1}},\n",
       " {'Domain': 'Organisation of Information Security',\n",
       "  'Question_Scores': {'Are there information security function(s)/role(s) responsible for security initiatives within your organisation?': 1,\n",
       "   'Does your organisation employ full-time staff dedicated for Information security within your organisation?': 1}},\n",
       " {'Domain': 'Physical and Environmental Security',\n",
       "  'Question_Scores': {'Does your organisation have sufficient physical security controls in place to prevent unauthorised access and damage? Please provide control details.': 1}},\n",
       " {'Domain': 'Supplier Relationships',\n",
       "  'Question_Scores': {\"Are there any suppliers involved in order to provide your service to WR? If so, are client's information security requirements passed down to the suppliers? Please provide details.\": 1}},\n",
       " {'Domain': 'System acquisition, development and maintenance',\n",
       "  'Question_Scores': {'Does your organisation have a formal process for identifying security requirements to harden the acquired/developed systems? Please provide details.': 1,\n",
       "   'Does your organisation develop software in order to provide a service to WR If answered no, please move on to Supplier Relationships': 1,\n",
       "   'Does the SDLC include security requirements gathering, implementation and verification requirements before accepting into production?': 1,\n",
       "   'Does your organisation follow secure development frameworks prescribed by reputable security groups (e.g. OWASP, SAFECode, etc.)': 1,\n",
       "   'Do developers regularly receive training on secure coding, design, testing for security vulnerabilities and mitigation techniques?  ': 1}}]"
      ]
     },
     "execution_count": 18,
     "metadata": {},
     "output_type": "execute_result"
    }
   ],
   "source": [
    "js_graph"
   ]
  },
  {
   "cell_type": "code",
   "execution_count": 19,
   "metadata": {},
   "outputs": [],
   "source": [
    "import networkx as nx"
   ]
  },
  {
   "cell_type": "code",
   "execution_count": 20,
   "metadata": {},
   "outputs": [],
   "source": [
    "G = nx.Graph()"
   ]
  },
  {
   "cell_type": "code",
   "execution_count": 21,
   "metadata": {},
   "outputs": [],
   "source": [
    "for x in js_graph:\n",
    "    G.add_edge('Risk', x['Domain'])\n",
    "    for key, value in x['Question_Scores'].items():\n",
    "        G.add_edge(x['Domain'], key)"
   ]
  },
  {
   "cell_type": "code",
   "execution_count": 23,
   "metadata": {},
   "outputs": [
    {
     "data": {
      "text/plain": [
       "[('Risk', 'Access Control'),\n",
       " ('Risk', 'Asset Management'),\n",
       " ('Risk', 'Communications Security'),\n",
       " ('Risk', 'Compliance'),\n",
       " ('Risk', 'Cryptography'),\n",
       " ('Risk', 'Human Resource Security'),\n",
       " ('Risk', 'Information Security Policies'),\n",
       " ('Risk', 'Information security aspects of business continuity management'),\n",
       " ('Risk', 'Information security incident management'),\n",
       " ('Risk', 'Operations Security'),\n",
       " ('Risk', 'Organisation of Information Security'),\n",
       " ('Risk', 'Physical and Environmental Security'),\n",
       " ('Risk', 'Supplier Relationships'),\n",
       " ('Risk', 'System acquisition, development and maintenance'),\n",
       " ('Access Control',\n",
       "  'Does your organisation have a formal Access Control Policy?'),\n",
       " ('Access Control',\n",
       "  'Does your organisation tightly control user access provisioning (e.g. employment) and deprovisioning (e.g. role change, termination) upon changes?'),\n",
       " ('Access Control',\n",
       "  'Does your organisation have a password policy/standard prescribing minimum requirements for privileged and non-privileged accounts?'),\n",
       " ('Asset Management',\n",
       "  'Does your organisation have a formal asset management system covering, inventory, ownership, acceptable use and return of assets? '),\n",
       " ('Asset Management',\n",
       "  'Does your organisation have a data classification or equivalent policy to facilitate the protection of client data? Please provide details of the controls deployed to protect client data.'),\n",
       " ('Asset Management',\n",
       "  'Does your organisation allow the use of portable media/devices?'),\n",
       " ('Asset Management',\n",
       "  'Does your organisation allow the use of bring your own device (BYOD)? If so, is there a policy/standard governing the security requirements? Please provide details of the security requirements and controls.'),\n",
       " ('Communications Security',\n",
       "  'Are there controls in place to sufficiently protect customer information when its transmitted (e.g. TLS/HTTPS, VPN)? Please provide the details of the controls.'),\n",
       " ('Communications Security',\n",
       "  'Are there controls in place to protect your network from unauthorised access? Please provide details.    '),\n",
       " ('Compliance',\n",
       "  'Does your organisation have a process to ensure legal, contractual and regulatory requirements are met? Please provide details.'),\n",
       " ('Compliance',\n",
       "  'How does your organisation ensure compliance with your organisational information security policies and standards?'),\n",
       " ('Cryptography',\n",
       "  'Does your organisation have a formal policy/standard/procedure mandating cryptographic controls? If so, please provide high level details'),\n",
       " ('Human Resource Security',\n",
       "  'Does your organisation perform pre-employment screening (e.g. criminal records check, education check etc.)  for your personnel? If so, please provide high level details of the checks and the process.'),\n",
       " ('Human Resource Security',\n",
       "  'Are all personnel required to sign a confidentiality agreement at the time of employment?'),\n",
       " ('Human Resource Security',\n",
       "  'Does your organisation have a disciplinary process for non-compliance with information security policies and is well understood by the personnel?'),\n",
       " ('Human Resource Security',\n",
       "  'Does HR work closely with Information Security to provide timely notices regarding job changes or terminations?'),\n",
       " ('Information Security Policies',\n",
       "  'Are information security policies issued, approved and supported by the executive board?'),\n",
       " ('Information Security Policies',\n",
       "  'Have policies been reviewed in the last 12 months?'),\n",
       " ('Information Security Policies',\n",
       "  'Is the high-level security policy available for review (Under NDA if required)'),\n",
       " ('Information Security Policies',\n",
       "  'Do your systems/applications regularly undergo security testing by an independant third party?'),\n",
       " ('Information Security Policies',\n",
       "  'Can (anonymised) security reports be provided?'),\n",
       " ('Information security aspects of business continuity management',\n",
       "  'If a formal business continuity policy exists, are there sufficient controls in place to protect WR  data? Please provide details.'),\n",
       " ('Information security incident management',\n",
       "  'Is there a formal process to track and notify customer about the incident if it is related or affect the customer? If so, please provide details.'),\n",
       " ('Operations Security',\n",
       "  'Does your organisation use a formal change management process for systems that process and store client data (e.g. production and non-production environments)?'),\n",
       " ('Operations Security',\n",
       "  'Are controls in place to segregate WorldRemit data from other clients? Please provide details.'),\n",
       " ('Operations Security',\n",
       "  'Are there controls in place to separate development, test and production environment? Please provide details.'),\n",
       " ('Operations Security',\n",
       "  'Are there controls in place to protect against malicious code (e.g. malware)? Please provide details.'),\n",
       " ('Operations Security',\n",
       "  'Are systems providing customer services and the storing data are backed up frequently and the sufficiently protected (e.g. encrypted backup)? Please provide details.'),\n",
       " ('Operations Security',\n",
       "  'Does your organisation regularly apply vendor supplied updates (patches) to the relevant environment and software?'),\n",
       " ('Operations Security',\n",
       "  'Are logging and monitoring controls in place to ensure audit data is captured and protected?'),\n",
       " ('Organisation of Information Security',\n",
       "  'Are there information security function(s)/role(s) responsible for security initiatives within your organisation?'),\n",
       " ('Organisation of Information Security',\n",
       "  'Does your organisation employ full-time staff dedicated for Information security within your organisation?'),\n",
       " ('Physical and Environmental Security',\n",
       "  'Does your organisation have sufficient physical security controls in place to prevent unauthorised access and damage? Please provide control details.'),\n",
       " ('Supplier Relationships',\n",
       "  \"Are there any suppliers involved in order to provide your service to WR? If so, are client's information security requirements passed down to the suppliers? Please provide details.\"),\n",
       " ('System acquisition, development and maintenance',\n",
       "  'Does your organisation have a formal process for identifying security requirements to harden the acquired/developed systems? Please provide details.'),\n",
       " ('System acquisition, development and maintenance',\n",
       "  'Does your organisation develop software in order to provide a service to WR If answered no, please move on to Supplier Relationships'),\n",
       " ('System acquisition, development and maintenance',\n",
       "  'Does the SDLC include security requirements gathering, implementation and verification requirements before accepting into production?'),\n",
       " ('System acquisition, development and maintenance',\n",
       "  'Does your organisation follow secure development frameworks prescribed by reputable security groups (e.g. OWASP, SAFECode, etc.)'),\n",
       " ('System acquisition, development and maintenance',\n",
       "  'Do developers regularly receive training on secure coding, design, testing for security vulnerabilities and mitigation techniques?  ')]"
      ]
     },
     "execution_count": 23,
     "metadata": {},
     "output_type": "execute_result"
    }
   ],
   "source": [
    "list(G.edges)"
   ]
  },
  {
   "cell_type": "code",
   "execution_count": 24,
   "metadata": {},
   "outputs": [],
   "source": [
    "nx.draw(G, with_labels=True, font_weight='bold')"
   ]
  },
  {
   "cell_type": "code",
   "execution_count": 25,
   "metadata": {},
   "outputs": [
    {
     "name": "stdout",
     "output_type": "stream",
     "text": [
      "Requirement already satisfied: matplotlib in /Library/Frameworks/Python.framework/Versions/3.7/lib/python3.7/site-packages (3.1.1)\n",
      "Requirement already satisfied: numpy>=1.11 in /Library/Frameworks/Python.framework/Versions/3.7/lib/python3.7/site-packages (from matplotlib) (1.17.3)\n",
      "Requirement already satisfied: python-dateutil>=2.1 in /Users/bprajapati/Library/Python/3.7/lib/python/site-packages (from matplotlib) (2.8.0)\n",
      "Requirement already satisfied: pyparsing!=2.0.4,!=2.1.2,!=2.1.6,>=2.0.1 in /Library/Frameworks/Python.framework/Versions/3.7/lib/python3.7/site-packages (from matplotlib) (2.4.5)\n",
      "Requirement already satisfied: kiwisolver>=1.0.1 in /Library/Frameworks/Python.framework/Versions/3.7/lib/python3.7/site-packages (from matplotlib) (1.1.0)\n",
      "Requirement already satisfied: cycler>=0.10 in /Library/Frameworks/Python.framework/Versions/3.7/lib/python3.7/site-packages (from matplotlib) (0.10.0)\n",
      "Requirement already satisfied: six>=1.5 in /Users/bprajapati/Library/Python/3.7/lib/python/site-packages (from python-dateutil>=2.1->matplotlib) (1.12.0)\n",
      "Requirement already satisfied: setuptools in /Library/Frameworks/Python.framework/Versions/3.7/lib/python3.7/site-packages (from kiwisolver>=1.0.1->matplotlib) (40.8.0)\n",
      "\u001b[33mWARNING: You are using pip version 19.2.3, however version 19.3.1 is available.\n",
      "You should consider upgrading via the 'pip install --upgrade pip' command.\u001b[0m\n",
      "Note: you may need to restart the kernel to use updated packages.\n"
     ]
    }
   ],
   "source": [
    "pip install matplotlib"
   ]
  },
  {
   "cell_type": "code",
   "execution_count": 26,
   "metadata": {},
   "outputs": [],
   "source": [
    "import matplotlib.pyplot as plt"
   ]
  },
  {
   "cell_type": "code",
   "execution_count": 27,
   "metadata": {},
   "outputs": [
    {
     "data": {
      "text/plain": [
       "<matplotlib.axes._subplots.AxesSubplot at 0x1316d96d0>"
      ]
     },
     "execution_count": 27,
     "metadata": {},
     "output_type": "execute_result"
    },
    {
     "data": {
      "image/png": "[encoded data removed]",
      "text/plain": [
       "<Figure size 432x288 with 1 Axes>"
      ]
     },
     "metadata": {
      "needs_background": "light"
     },
     "output_type": "display_data"
    }
   ],
   "source": [
    "plt.subplot(122)"
   ]
  },
  {
   "cell_type": "code",
   "execution_count": 28,
   "metadata": {},
   "outputs": [],
   "source": [
    "pos = nx.spring_layout(G)"
   ]
  },
  {
   "cell_type": "code",
   "execution_count": 29,
   "metadata": {},
   "outputs": [
    {
     "data": {
      "text/plain": [
       "<Figure size 2880x2880 with 0 Axes>"
      ]
     },
     "execution_count": 29,
     "metadata": {},
     "output_type": "execute_result"
    },
    {
     "data": {
      "text/plain": [
       "<Figure size 2880x2880 with 0 Axes>"
      ]
     },
     "metadata": {},
     "output_type": "display_data"
    }
   ],
   "source": [
    "plt.figure(figsize=(40, 40))"
   ]
  },
  {
   "cell_type": "code",
   "execution_count": 30,
   "metadata": {},
   "outputs": [
    {
     "data": {
      "text/plain": [
       "<matplotlib.collections.PathCollection at 0x1337eddd0>"
      ]
     },
     "execution_count": 30,
     "metadata": {},
     "output_type": "execute_result"
    },
    {
     "data": {
      "image/png": "[encoded data removed]",
      "text/plain": [
       "<Figure size 432x288 with 1 Axes>"
      ]
     },
     "metadata": {},
     "output_type": "display_data"
    }
   ],
   "source": [
    "nx.draw_networkx_nodes(G, pos, node_size=20, node_color=\"red\")"
   ]
  },
  {
   "cell_type": "code",
   "execution_count": 31,
   "metadata": {},
   "outputs": [
    {
     "data": {
      "text/plain": [
       "<matplotlib.collections.LineCollection at 0x12f5f60d0>"
      ]
     },
     "execution_count": 31,
     "metadata": {},
     "output_type": "execute_result"
    },
    {
     "data": {
      "image/png": "[encoded data removed]",
      "text/plain": [
       "<Figure size 432x288 with 1 Axes>"
      ]
     },
     "metadata": {
      "needs_background": "light"
     },
     "output_type": "display_data"
    }
   ],
   "source": [
    "nx.draw_networkx_edges(G, pos, alpha=0.1)"
   ]
  },
  {
   "cell_type": "code",
   "execution_count": 33,
   "metadata": {},
   "outputs": [
    {
     "data": {
      "text/plain": [
       "{'Risk': Text(-0.0016264466847667192, 0.03468237807535843, 'Risk'),\n",
       " 'Access Control': Text(0.3800952315003919, 0.3874352069162715, 'Access Control'),\n",
       " 'Does your organisation have a formal Access Control Policy?': Text(0.6270840012990836, 0.48933176342361423, 'Does your organisation have a formal Access Control Policy?'),\n",
       " 'Does your organisation tightly control user access provisioning (e.g. employment) and deprovisioning (e.g. role change, termination) upon changes?': Text(0.49617011384024484, 0.6392904810790275, 'Does your organisation tightly control user access provisioning (e.g. employment) and deprovisioning (e.g. role change, termination) upon changes?'),\n",
       " 'Does your organisation have a password policy/standard prescribing minimum requirements for privileged and non-privileged accounts?': Text(0.5969016770674933, 0.5945309727686766, 'Does your organisation have a password policy/standard prescribing minimum requirements for privileged and non-privileged accounts?'),\n",
       " 'Asset Management': Text(-0.14350307398560994, -0.5331130883517506, 'Asset Management'),\n",
       " 'Does your organisation have a formal asset management system covering, inventory, ownership, acceptable use and return of assets? ': Text(-0.1671172708405817, -0.823382927201948, 'Does your organisation have a formal asset management system covering, inventory, ownership, acceptable use and return of assets? '),\n",
       " 'Does your organisation have a data classification or equivalent policy to facilitate the protection of client data? Please provide details of the controls deployed to protect client data.': Text(-0.2683883413918045, -0.8145485070761667, 'Does your organisation have a data classification or equivalent policy to facilitate the protection of client data? Please provide details of the controls deployed to protect client data.'),\n",
       " 'Does your organisation allow the use of portable media/devices?': Text(-0.06489791196045046, -0.812037554371445, 'Does your organisation allow the use of portable media/devices?'),\n",
       " 'Does your organisation allow the use of bring your own device (BYOD)? If so, is there a policy/standard governing the security requirements? Please provide details of the security requirements and controls.': Text(-0.3194142725452833, -0.7176372207779075, 'Does your organisation allow the use of bring your own device (BYOD)? If so, is there a policy/standard governing the security requirements? Please provide details of the security requirements and controls.'),\n",
       " 'Communications Security': Text(-0.2803841972967582, 0.40251582468232394, 'Communications Security'),\n",
       " 'Are there controls in place to sufficiently protect customer information when its transmitted (e.g. TLS/HTTPS, VPN)? Please provide the details of the controls.': Text(-0.520620340025652, 0.5840290741201059, 'Are there controls in place to sufficiently protect customer information when its transmitted (e.g. TLS/HTTPS, VPN)? Please provide the details of the controls.'),\n",
       " 'Are there controls in place to protect your network from unauthorised access? Please provide details.    ': Text(-0.4224480855206553, 0.6645006029894357, 'Are there controls in place to protect your network from unauthorised access? Please provide details.    '),\n",
       " 'Compliance': Text(0.10029804951404594, -0.33744391025384735, 'Compliance'),\n",
       " 'Does your organisation have a process to ensure legal, contractual and regulatory requirements are met? Please provide details.': Text(0.21582008632360156, -0.5668319823705223, 'Does your organisation have a process to ensure legal, contractual and regulatory requirements are met? Please provide details.'),\n",
       " 'How does your organisation ensure compliance with your organisational information security policies and standards?': Text(0.09933999494203652, -0.5797767513638524, 'How does your organisation ensure compliance with your organisational information security policies and standards?'),\n",
       " 'Cryptography': Text(-0.18891980309435286, 0.24780680948450795, 'Cryptography'),\n",
       " 'Does your organisation have a formal policy/standard/procedure mandating cryptographic controls? If so, please provide high level details': Text(-0.3976494045151429, 0.41323191535505405, 'Does your organisation have a formal policy/standard/procedure mandating cryptographic controls? If so, please provide high level details'),\n",
       " 'Human Resource Security': Text(0.025219478742360142, 0.6684428509410542, 'Human Resource Security'),\n",
       " 'Does your organisation perform pre-employment screening (e.g. criminal records check, education check etc.)  for your personnel? If so, please provide high level details of the checks and the process.': Text(0.18066438210328736, 0.9240335113891016, 'Does your organisation perform pre-employment screening (e.g. criminal records check, education check etc.)  for your personnel? If so, please provide high level details of the checks and the process.'),\n",
       " 'Are all personnel required to sign a confidentiality agreement at the time of employment?': Text(-0.11445309252368081, 0.9334297053833579, 'Are all personnel required to sign a confidentiality agreement at the time of employment?'),\n",
       " 'Does your organisation have a disciplinary process for non-compliance with information security policies and is well understood by the personnel?': Text(-0.01608108434517419, 0.978798258248828, 'Does your organisation have a disciplinary process for non-compliance with information security policies and is well understood by the personnel?'),\n",
       " 'Does HR work closely with Information Security to provide timely notices regarding job changes or terminations?': Text(0.08598464947806504, 0.9769184013050138, 'Does HR work closely with Information Security to provide timely notices regarding job changes or terminations?'),\n",
       " 'Information Security Policies': Text(0.4444160238090326, -0.40923387472016964, 'Information Security Policies'),\n",
       " 'Are information security policies issued, approved and supported by the executive board?': Text(0.679992413584769, -0.44936227402459383, 'Are information security policies issued, approved and supported by the executive board?'),\n",
       " 'Have policies been reviewed in the last 12 months?': Text(0.5743223679926983, -0.652063087339939, 'Have policies been reviewed in the last 12 months?'),\n",
       " 'Is the high-level security policy available for review (Under NDA if required)': Text(0.7235097266912941, -0.5422156789814265, 'Is the high-level security policy available for review (Under NDA if required)'),\n",
       " 'Do your systems/applications regularly undergo security testing by an independant third party?': Text(0.667361385754526, -0.6324756525457254, 'Do your systems/applications regularly undergo security testing by an independant third party?'),\n",
       " 'Can (anonymised) security reports be provided?': Text(0.4868390492901333, -0.6917088985977018, 'Can (anonymised) security reports be provided?'),\n",
       " 'Information security aspects of business continuity management': Text(-0.3377956907872086, 0.04350501804415084, 'Information security aspects of business continuity management'),\n",
       " 'If a formal business continuity policy exists, are there sufficient controls in place to protect WR  data? Please provide details.': Text(-0.6093490698212025, 0.09635654514682385, 'If a formal business continuity policy exists, are there sufficient controls in place to protect WR  data? Please provide details.'),\n",
       " 'Information security incident management': Text(-0.3025351186319689, 0.16454698670963339, 'Information security incident management'),\n",
       " 'Is there a formal process to track and notify customer about the incident if it is related or affect the customer? If so, please provide details.': Text(-0.5574783011075911, 0.2785289693088293, 'Is there a formal process to track and notify customer about the incident if it is related or affect the customer? If so, please provide details.'),\n",
       " 'Operations Security': Text(-0.6806236676481031, -0.26295618383878955, 'Operations Security'),\n",
       " 'Does your organisation use a formal change management process for systems that process and store client data (e.g. production and non-production environments)?': Text(-0.7559577258952844, -0.5050504202514506, 'Does your organisation use a formal change management process for systems that process and store client data (e.g. production and non-production environments)?'),\n",
       " 'Are controls in place to segregate WorldRemit data from other clients? Please provide details.': Text(-0.9935668380269472, -0.22927618934526536, 'Are controls in place to segregate WorldRemit data from other clients? Please provide details.'),\n",
       " 'Are there controls in place to separate development, test and production environment? Please provide details.': Text(-0.9372496793821651, -0.44863383593369743, 'Are there controls in place to separate development, test and production environment? Please provide details.'),\n",
       " 'Are there controls in place to protect against malicious code (e.g. malware)? Please provide details.': Text(-0.9277709283447076, -0.14198551311355714, 'Are there controls in place to protect against malicious code (e.g. malware)? Please provide details.'),\n",
       " 'Are systems providing customer services and the storing data are backed up frequently and the sufficiently protected (e.g. encrypted backup)? Please provide details.': Text(-0.8902573516692331, -0.31904471345790514, 'Are systems providing customer services and the storing data are backed up frequently and the sufficiently protected (e.g. encrypted backup)? Please provide details.'),\n",
       " 'Does your organisation regularly apply vendor supplied updates (patches) to the relevant environment and software?': Text(-0.8588648895047191, -0.5148779394726898, 'Does your organisation regularly apply vendor supplied updates (patches) to the relevant environment and software?'),\n",
       " 'Are logging and monitoring controls in place to ensure audit data is captured and protected?': Text(-1.0, -0.35176269231587415, 'Are logging and monitoring controls in place to ensure audit data is captured and protected?'),\n",
       " 'Organisation of Information Security': Text(0.040372567268259676, 0.3956354273551269, 'Organisation of Information Security'),\n",
       " 'Are there information security function(s)/role(s) responsible for security initiatives within your organisation?': Text(0.17042557673044303, 0.6019063352426937, 'Are there information security function(s)/role(s) responsible for security initiatives within your organisation?'),\n",
       " 'Does your organisation employ full-time staff dedicated for Information security within your organisation?': Text(-0.06703454045217515, 0.6122622391048543, 'Does your organisation employ full-time staff dedicated for Information security within your organisation?'),\n",
       " 'Physical and Environmental Security': Text(0.23928793864024223, 0.04678206328393894, 'Physical and Environmental Security'),\n",
       " 'Does your organisation have sufficient physical security controls in place to prevent unauthorised access and damage? Please provide control details.': Text(0.4288612122994531, 0.07720806576557786, 'Does your organisation have sufficient physical security controls in place to prevent unauthorised access and damage? Please provide control details.'),\n",
       " 'Supplier Relationships': Text(-0.2117762940965647, -0.12545546384865572, 'Supplier Relationships'),\n",
       " \"Are there any suppliers involved in order to provide your service to WR? If so, are client's information security requirements passed down to the suppliers? Please provide details.\": Text(-0.41499509499312964, -0.2042185279429964, \"Are there any suppliers involved in order to provide your service to WR? If so, are client's information security requirements passed down to the suppliers? Please provide details.\"),\n",
       " 'System acquisition, development and maintenance': Text(0.646875870857632, 0.056784804567784175, 'System acquisition, development and maintenance'),\n",
       " 'Does your organisation have a formal process for identifying security requirements to harden the acquired/developed systems? Please provide details.': Text(0.8772028295100084, -0.09033474169308822, 'Does your organisation have a formal process for identifying security requirements to harden the acquired/developed systems? Please provide details.'),\n",
       " 'Does your organisation develop software in order to provide a service to WR If answered no, please move on to Supplier Relationships': Text(0.8741950408433098, 0.07601994028972915, 'Does your organisation develop software in order to provide a service to WR If answered no, please move on to Supplier Relationships'),\n",
       " 'Does the SDLC include security requirements gathering, implementation and verification requirements before accepting into production?': Text(0.9611934012445451, 0.1419804322438904, 'Does the SDLC include security requirements gathering, implementation and verification requirements before accepting into production?'),\n",
       " 'Does your organisation follow secure development frameworks prescribed by reputable security groups (e.g. OWASP, SAFECode, etc.)': Text(0.9590145698213188, -0.0038613645396042705, 'Does your organisation follow secure development frameworks prescribed by reputable security groups (e.g. OWASP, SAFECode, etc.)'),\n",
       " 'Do developers regularly receive training on secure coding, design, testing for security vulnerabilities and mitigation techniques?  ': Text(0.869310875942638, 0.22879441050580698, 'Do developers regularly receive training on secure coding, design, testing for security vulnerabilities and mitigation techniques?  ')}"
      ]
     },
     "execution_count": 33,
     "metadata": {},
     "output_type": "execute_result"
    },
    {
     "data": {
      "image/png": "[encoded data removed]",
      "text/plain": [
       "<Figure size 432x288 with 1 Axes>"
      ]
     },
     "metadata": {},
     "output_type": "display_data"
    }
   ],
   "source": [
    "nx.draw_networkx_labels(G, pos, alpha=1, font_size=5)"
   ]
  },
  {
   "cell_type": "code",
   "execution_count": 34,
   "metadata": {},
   "outputs": [],
   "source": [
    "plt.show();"
   ]
  }
 ],
 "metadata": {
  "kernelspec": {
   "display_name": "venv",
   "language": "python",
   "name": "venv"
  },
  "language_info": {
   "codemirror_mode": {
    "name": "ipython",
    "version": 3
   },
   "file_extension": ".py",
   "mimetype": "text/x-python",
   "name": "python",
   "nbconvert_exporter": "python",
   "pygments_lexer": "ipython3",
   "version": "3.7.4"
  }
 },
 "nbformat": 4,
 "nbformat_minor": 2
}
